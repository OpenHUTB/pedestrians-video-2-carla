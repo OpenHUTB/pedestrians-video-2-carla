{
 "cells": [
  {
   "cell_type": "markdown",
   "metadata": {},
   "source": [
    "Replacement Metric Flow (to work around the lack of JAAD ground truth)\n",
    "======================================================================"
   ]
  },
  {
   "cell_type": "markdown",
   "metadata": {},
   "source": [
    "Our aim is to get a model that can be used to \"fix\" the 2D poses of the JAAD dataset. General idea:\n",
    "1. JAAD does not have the ground truth, only 2D poses that are extracted from the images using OpenPose which are not very accurate.\n",
    "2. We have datasets containing the 3D poses in various formats, namely SMPL (we use CMU and HumanEva from AMASS) and CARLA skeleton (we use data recorded from the simulator, denoted as CarlaRec dataset). We can project the 3D poses (joints positions) to 2D poses using the camera parameters and get a \"good\" ground truth.\n",
    "3. We need to train a model using \"good\" datasets and then run the inference on JAAD and save the results.\n",
    "4. Then, we need to train another model (but with same architecture), this time using only the results from the inference on JAAD as the input and then run the inference on \"good\" datasets.\n",
    "5. Finally, we can compare the results from the second model with ground truth from \"good\" datasets and get a metric. If the model trained on \"fixed\" JAAD gets satisfactory results, we can assume that JAAD was correctly fixed and our model is good at generalizing/fixing the 2D poses."
   ]
  }
 ],
 "metadata": {
  "interpreter": {
   "hash": "006d5deb8e6cdcd4312641bdf15f3bc20f0769a7305d81173599a7b40f33b4a2"
  },
  "kernelspec": {
   "display_name": "Python 3.8.10 64-bit",
   "language": "python",
   "name": "python3"
  },
  "language_info": {
   "name": "python",
   "version": "3.8.10"
  },
  "orig_nbformat": 4
 },
 "nbformat": 4,
 "nbformat_minor": 2
}
