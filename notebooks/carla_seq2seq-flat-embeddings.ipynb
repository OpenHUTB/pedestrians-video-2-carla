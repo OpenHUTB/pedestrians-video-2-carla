{
 "cells": [
  {
   "cell_type": "markdown",
   "metadata": {},
   "source": [
    "Seq2Seq AutoEncoder flow using CarlaRecorded dataset:\n",
    "========================================================="
   ]
  },
  {
   "cell_type": "code",
   "execution_count": 1,
   "metadata": {},
   "outputs": [
    {
     "name": "stderr",
     "output_type": "stream",
     "text": [
      "Global seed set to 22742\n"
     ]
    },
    {
     "data": {
      "text/plain": [
       "22742"
      ]
     },
     "execution_count": 1,
     "metadata": {},
     "output_type": "execute_result"
    }
   ],
   "source": [
    "# seeding\n",
    "\n",
    "import pytorch_lightning as pl\n",
    "import randomname\n",
    "\n",
    "# get random version name before seeding\n",
    "version = randomname.get_name()\n",
    "seed = 22742\n",
    "\n",
    "pl.seed_everything(seed, workers=True)"
   ]
  },
  {
   "cell_type": "markdown",
   "metadata": {},
   "source": [
    "Model to use:\n",
    "-------------"
   ]
  },
  {
   "cell_type": "code",
   "execution_count": 2,
   "metadata": {},
   "outputs": [],
   "source": [
    "from pedestrians_video_2_carla.data.carla.skeleton import CARLA_SKELETON\n",
    "from pedestrians_video_2_carla.modules.movements.movements import MovementsModelOutputType\n",
    "from pedestrians_video_2_carla.modules.movements.seq2seq import Seq2SeqFlatEmbeddings\n",
    "\n",
    "model = Seq2SeqFlatEmbeddings(\n",
    "    input_nodes = CARLA_SKELETON,\n",
    "    output_nodes = CARLA_SKELETON,\n",
    "    disable_lr_scheduler = True,\n",
    "    lr = 1e-2,\n",
    "    embeddings_size = None,\n",
    "    embeddings_size_0 = 128,\n",
    "    embeddings_size_1 = 64,\n",
    "    embeddings_size_2 = 32,\n",
    "    movements_output_type = MovementsModelOutputType.pose_2d,\n",
    "    bidirectional = True,\n",
    ")"
   ]
  },
  {
   "cell_type": "markdown",
   "metadata": {},
   "source": [
    "Flow definition:\n",
    "----------------\n",
    "\n",
    "Also handles checkpoint loading if needed."
   ]
  },
  {
   "cell_type": "code",
   "execution_count": 3,
   "metadata": {},
   "outputs": [],
   "source": [
    "# ckpt_path='/runs/JAADOpenPoseDataModule/jaad_autoencoder_notebook/LinearAE2D/other-style/checkpoints/epoch=273-step=8493.ckpt'\n",
    "ckpt_path = None"
   ]
  },
  {
   "cell_type": "code",
   "execution_count": 4,
   "metadata": {},
   "outputs": [],
   "source": [
    "# get flow model (LitAutoencoderFlow)\n",
    "\n",
    "from pedestrians_video_2_carla.modules.flow.autoencoder import LitAutoencoderFlow\n",
    "from pedestrians_video_2_carla.data.base.base_transforms import BaseTransforms\n",
    "from pedestrians_video_2_carla.loss import LossModes\n",
    "\n",
    "if ckpt_path is not None:\n",
    "    flow = LitAutoencoderFlow.load_from_checkpoint(\n",
    "        checkpoint_path=ckpt_path,\n",
    "        movements_model=model,\n",
    "    )\n",
    "else:\n",
    "    flow = LitAutoencoderFlow(\n",
    "        movements_model=model,\n",
    "        transform=BaseTransforms.hips_neck_bbox,\n",
    "        loss_modes=[LossModes.loc_2d],\n",
    "    )"
   ]
  },
  {
   "cell_type": "code",
   "execution_count": 5,
   "metadata": {},
   "outputs": [
    {
     "name": "stdout",
     "output_type": "stream",
     "text": [
      "Subsets dir: /outputs/CarlaRecordedDataModule/subsets/c0b8266e369b6797f04a82980768923c\n"
     ]
    }
   ],
   "source": [
    "# DataModule to use\n",
    "\n",
    "from pedestrians_video_2_carla.data.carla.carla_recorded_datamodule import CarlaRecordedDataModule\n",
    "\n",
    "dm = CarlaRecordedDataModule(\n",
    "    batch_size=256,\n",
    "    clip_offset=4,\n",
    "    clip_length=4,\n",
    "    transforms=BaseTransforms.hips_neck_bbox,\n",
    "    input_nodes=CARLA_SKELETON,\n",
    "    skip_metadata=True,\n",
    "    return_graph=model.needs_graph,\n",
    "    return_confidence=model.needs_confidence,\n",
    "    missing_point_probability=0.1,\n",
    "    noise='gaussian',\n",
    "    num_workers=0\n",
    ")"
   ]
  },
  {
   "cell_type": "code",
   "execution_count": 6,
   "metadata": {},
   "outputs": [
    {
     "name": "stderr",
     "output_type": "stream",
     "text": [
      "/app/src/pedestrians_video_2_carla/loggers/pedestrian/pedestrian_logger.py:73: UserWarning: Video logging interval set to 0. Disabling video output.\n",
      "  rank_zero_warn(\"Video logging interval set to 0. Disabling video output.\")\n"
     ]
    }
   ],
   "source": [
    "# loggers and callbacks\n",
    "\n",
    "import os\n",
    "\n",
    "from pytorch_lightning.callbacks import LearningRateMonitor, ModelCheckpoint\n",
    "from pytorch_lightning.loggers.tensorboard import TensorBoardLogger\n",
    "\n",
    "from pedestrians_video_2_carla.loggers.pedestrian import PedestrianLogger\n",
    "from pedestrians_video_2_carla.loggers.pedestrian.enums import PedestrianRenderers\n",
    "\n",
    "logger = TensorBoardLogger(\n",
    "    save_dir='/runs',\n",
    "    name=os.path.join(\n",
    "        dm.__class__.__name__,\n",
    "        'carla_autoencoder_notebook',\n",
    "        model.__class__.__name__,\n",
    "    ),\n",
    "    version=version,\n",
    "    default_hp_metric=False,\n",
    ")\n",
    "pedestrian_logger = PedestrianLogger(\n",
    "    save_dir=os.path.join(logger.log_dir, \"videos\"),\n",
    "    name=logger.name,\n",
    "    version=logger.version,\n",
    "    movement_model_output_type=model.output_type,\n",
    "    renderers=[PedestrianRenderers.source_videos, PedestrianRenderers.target_points, PedestrianRenderers.input_points, PedestrianRenderers.projection_points],\n",
    "    source_videos_dir='/datasets/CARLA/BasicPedestriansCrossing',\n",
    "    source_videos_overlay=True,\n",
    "    video_saving_frequency_reduction=0  # this actually turns of the logger\n",
    ")\n",
    "checkpoint_callback = ModelCheckpoint(\n",
    "    dirpath=os.path.join(logger.log_dir, \"checkpoints\"),\n",
    "    monitor=\"val_loss/primary\",\n",
    "    mode=\"min\",\n",
    "    save_top_k=1,\n",
    ")\n",
    "lr_monitor = LearningRateMonitor(logging_interval=\"step\")"
   ]
  },
  {
   "cell_type": "code",
   "execution_count": 7,
   "metadata": {},
   "outputs": [
    {
     "name": "stderr",
     "output_type": "stream",
     "text": [
      "GPU available: True, used: False\n",
      "TPU available: False, using: 0 TPU cores\n",
      "IPU available: False, using: 0 IPUs\n",
      "/venv/lib/python3.8/site-packages/pytorch_lightning/trainer/trainer.py:1579: UserWarning: GPU available but not used. Set the gpus flag in your trainer `Trainer(gpus=1)` or script `--gpus=1`.\n",
      "  rank_zero_warn(\n",
      "Running in fast_dev_run mode: will run a full train, val, test and prediction loop using 1 batch(es).\n"
     ]
    }
   ],
   "source": [
    "# actual trainer\n",
    "\n",
    "trainer = pl.Trainer(\n",
    "    # gpus=1,\n",
    "    # auto_select_gpus=True,\n",
    "    log_every_n_steps=1,\n",
    "    num_sanity_val_steps=1,\n",
    "    check_val_every_n_epoch=1,\n",
    "    max_epochs=10,\n",
    "    deterministic=False,\n",
    "    logger=[logger, pedestrian_logger],\n",
    "    callbacks=[checkpoint_callback, lr_monitor],\n",
    ")"
   ]
  },
  {
   "cell_type": "code",
   "execution_count": 8,
   "metadata": {},
   "outputs": [
    {
     "name": "stderr",
     "output_type": "stream",
     "text": [
      "\n",
      "  | Name             | Type                  | Params\n",
      "-----------------------------------------------------------\n",
      "0 | movements_model  | Seq2SeqFlatEmbeddings | 333 K \n",
      "1 | trajectory_model | ZeroTrajectory        | 0     \n",
      "2 | metrics          | MetricCollection      | 0     \n",
      "-----------------------------------------------------------\n",
      "333 K     Trainable params\n",
      "0         Non-trainable params\n",
      "333 K     Total params\n",
      "1.332     Total estimated model params size (MB)\n"
     ]
    },
    {
     "name": "stdout",
     "output_type": "stream",
     "text": [
      "------------------------------------------------------\n",
      "Initial metrics:\n",
      "------------------------------------------------------\n",
      "initial/MJR: 0.099884033203125\n",
      "initial/MSE: 87.10411834716797\n",
      "initial/PCK@005: 0.5372126698493958\n",
      "initial/PCKhn@01: 0.3494592607021332\n",
      "------------------------------------------------------\n"
     ]
    },
    {
     "name": "stderr",
     "output_type": "stream",
     "text": [
      "/venv/lib/python3.8/site-packages/pytorch_lightning/trainer/data_loading.py:110: UserWarning: The dataloader, train_dataloader, does not have many workers which may be a bottleneck. Consider increasing the value of the `num_workers` argument` (try 32 which is the number of cpus on this machine) in the `DataLoader` init to improve performance.\n",
      "  rank_zero_warn(\n",
      "/venv/lib/python3.8/site-packages/pytorch_lightning/trainer/data_loading.py:110: UserWarning: The dataloader, val_dataloader 0, does not have many workers which may be a bottleneck. Consider increasing the value of the `num_workers` argument` (try 32 which is the number of cpus on this machine) in the `DataLoader` init to improve performance.\n",
      "  rank_zero_warn(\n"
     ]
    },
    {
     "data": {
      "application/vnd.jupyter.widget-view+json": {
       "model_id": "5aed7ce9fbcd48c5bc270b4ceb58f1cf",
       "version_major": 2,
       "version_minor": 0
      },
      "text/plain": [
       "Training: 0it [00:00, ?it/s]"
      ]
     },
     "metadata": {},
     "output_type": "display_data"
    },
    {
     "data": {
      "application/vnd.jupyter.widget-view+json": {
       "model_id": "a8e59c11762949b6a6e169bc36072797",
       "version_major": 2,
       "version_minor": 0
      },
      "text/plain": [
       "Validating: 0it [00:00, ?it/s]"
      ]
     },
     "metadata": {},
     "output_type": "display_data"
    }
   ],
   "source": [
    "# train!\n",
    "\n",
    "trainer.fit(model=flow, datamodule=dm, ckpt_path=ckpt_path)  # ckpt_path is needed to resume optimizer states etc."
   ]
  }
 ],
 "metadata": {
  "interpreter": {
   "hash": "006d5deb8e6cdcd4312641bdf15f3bc20f0769a7305d81173599a7b40f33b4a2"
  },
  "kernelspec": {
   "display_name": "Python 3.8.10 64-bit",
   "language": "python",
   "name": "python3"
  },
  "language_info": {
   "codemirror_mode": {
    "name": "ipython",
    "version": 3
   },
   "file_extension": ".py",
   "mimetype": "text/x-python",
   "name": "python",
   "nbconvert_exporter": "python",
   "pygments_lexer": "ipython3",
   "version": "3.8.10"
  }
 },
 "nbformat": 4,
 "nbformat_minor": 2
}
