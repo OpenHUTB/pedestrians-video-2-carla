{
 "cells": [
  {
   "cell_type": "markdown",
   "metadata": {},
   "source": [
    "JAADOpenPose dataset stats:\n",
    "========================================================="
   ]
  },
  {
   "cell_type": "code",
   "execution_count": 1,
   "metadata": {},
   "outputs": [
    {
     "name": "stderr",
     "output_type": "stream",
     "text": [
      "Global seed set to 22742\n"
     ]
    },
    {
     "name": "stdout",
     "output_type": "stream",
     "text": [
      "chamfered-column\n"
     ]
    }
   ],
   "source": [
    "# seeding\n",
    "\n",
    "import pytorch_lightning as pl\n",
    "import numpy as np\n",
    "\n",
    "seed = 22742\n",
    "\n",
    "pl.seed_everything(seed, workers=True)"
   ]
  },
  {
   "cell_type": "code",
   "execution_count": 2,
   "metadata": {},
   "outputs": [
    {
     "name": "stdout",
     "output_type": "stream",
     "text": [
      "Subsets dir: /outputs/JAADOpenPoseDataModule/subsets/b770d34d6f1911954eea04ec81cf3999\n"
     ]
    }
   ],
   "source": [
    "# DataModule to use\n",
    "\n",
    "from pedestrians_video_2_carla.data.openpose.skeleton import BODY_25_SKELETON\n",
    "from pedestrians_video_2_carla.data.base.base_transforms import BaseTransforms\n",
    "from pedestrians_video_2_carla.data.openpose.jaad_openpose_datamodule import JAADOpenPoseDataModule\n",
    "\n",
    "dm = JAADOpenPoseDataModule(\n",
    "    batch_size=256,\n",
    "    clip_offset=1,\n",
    "    clip_length=1,\n",
    "    transforms=BaseTransforms.hips_neck_bbox,\n",
    "    data_nodes=BODY_25_SKELETON,\n",
    "    input_nodes=BODY_25_SKELETON,\n",
    "    strong_points=0,\n",
    "    num_workers=0\n",
    ")\n",
    "dm.prepare_data()\n",
    "dm.setup()"
   ]
  },
  {
   "cell_type": "markdown",
   "metadata": {},
   "source": [
    "Good practice: only get relevant stats on training data."
   ]
  },
  {
   "cell_type": "code",
   "execution_count": 6,
   "metadata": {},
   "outputs": [],
   "source": [
    "# we're only interested in raw projection_2d data, ignoring confidence\n",
    "pose_2d = dm.train_set.projection_2d[..., :2]"
   ]
  },
  {
   "cell_type": "code",
   "execution_count": 12,
   "metadata": {},
   "outputs": [
    {
     "data": {
      "text/plain": [
       "36140"
      ]
     },
     "execution_count": 12,
     "metadata": {},
     "output_type": "execute_result"
    }
   ],
   "source": [
    "# how many frames do we have?\n",
    "total_frames = pose_2d.shape[0]\n",
    "total_frames"
   ]
  },
  {
   "cell_type": "code",
   "execution_count": 13,
   "metadata": {},
   "outputs": [
    {
     "data": {
      "text/plain": [
       "6766"
      ]
     },
     "execution_count": 13,
     "metadata": {},
     "output_type": "execute_result"
    }
   ],
   "source": [
    "# how many frames where all joints are present?\n",
    "all_joints = np.all(np.any(pose_2d, axis=-1), axis=-1).sum()\n",
    "all_joints"
   ]
  },
  {
   "cell_type": "code",
   "execution_count": 14,
   "metadata": {},
   "outputs": [
    {
     "data": {
      "text/plain": [
       "28012"
      ]
     },
     "execution_count": 14,
     "metadata": {},
     "output_type": "execute_result"
    }
   ],
   "source": [
    "# how many frames where at least one joint is present?\n",
    "at_least_one_joint = np.any(np.any(pose_2d, axis=-1), axis=-1).sum()\n",
    "at_least_one_joint"
   ]
  },
  {
   "cell_type": "code",
   "execution_count": 24,
   "metadata": {},
   "outputs": [
    {
     "data": {
      "text/plain": [
       "(('Nose', 22972),\n",
       " ('Neck', 27809),\n",
       " ('RShoulder', 27618),\n",
       " ('RElbow', 26791),\n",
       " ('RWrist', 24757),\n",
       " ('LShoulder', 27614),\n",
       " ('LElbow', 26829),\n",
       " ('LWrist', 24927),\n",
       " ('MidHip', 27848),\n",
       " ('RHip', 27789),\n",
       " ('RKnee', 27396),\n",
       " ('RAnkle', 26716),\n",
       " ('LHip', 27789),\n",
       " ('LKnee', 27363),\n",
       " ('LAnkle', 26692),\n",
       " ('REye', 20091),\n",
       " ('LEye', 19330),\n",
       " ('REar', 21977),\n",
       " ('LEar', 21767),\n",
       " ('LBigToe', 25117),\n",
       " ('LSmallToe', 24663),\n",
       " ('LHeel', 26300),\n",
       " ('RBigToe', 25581),\n",
       " ('RSmallToe', 25318),\n",
       " ('RHeel', 26450))"
      ]
     },
     "execution_count": 24,
     "metadata": {},
     "output_type": "execute_result"
    }
   ],
   "source": [
    "# how many frames where a particular joint is present?\n",
    "separate_joints = np.sum(np.any(pose_2d, axis=-1), axis=(0,1))\n",
    "\n",
    "tuple(zip(BODY_25_SKELETON._member_names_, separate_joints))"
   ]
  },
  {
   "cell_type": "code",
   "execution_count": 20,
   "metadata": {},
   "outputs": [
    {
     "data": {
      "text/plain": [
       "0.1872163807415606"
      ]
     },
     "execution_count": 20,
     "metadata": {},
     "output_type": "execute_result"
    }
   ],
   "source": [
    "# what is percentage of frames where all joints are present?\n",
    "all_joints_percentage = all_joints / total_frames\n",
    "all_joints_percentage"
   ]
  },
  {
   "cell_type": "code",
   "execution_count": 21,
   "metadata": {},
   "outputs": [
    {
     "data": {
      "text/plain": [
       "0.7750968456004427"
      ]
     },
     "execution_count": 21,
     "metadata": {},
     "output_type": "execute_result"
    }
   ],
   "source": [
    "# what is percentage of frames where at least one joint is present?\n",
    "at_least_one_joint_percentage = at_least_one_joint / total_frames\n",
    "at_least_one_joint_percentage"
   ]
  },
  {
   "cell_type": "code",
   "execution_count": 25,
   "metadata": {},
   "outputs": [
    {
     "data": {
      "text/plain": [
       "(('Nose', 0.6356391809629219),\n",
       " ('Neck', 0.7694798007747649),\n",
       " ('RShoulder', 0.7641947980077477),\n",
       " ('RElbow', 0.74131156613171),\n",
       " ('RWrist', 0.6850304371887106),\n",
       " ('LShoulder', 0.7640841173215274),\n",
       " ('LElbow', 0.7423630326508024),\n",
       " ('LWrist', 0.6897343663530714),\n",
       " ('MidHip', 0.7705589374654123),\n",
       " ('RHip', 0.7689263973436635),\n",
       " ('RKnee', 0.7580520199225235),\n",
       " ('RAnkle', 0.7392363032650803),\n",
       " ('LHip', 0.7689263973436635),\n",
       " ('LKnee', 0.7571389042612064),\n",
       " ('LAnkle', 0.7385722191477587),\n",
       " ('REye', 0.5559214167127836),\n",
       " ('LEye', 0.5348644161593802),\n",
       " ('REar', 0.6081073602656336),\n",
       " ('LEar', 0.6022966242390703),\n",
       " ('LBigToe', 0.6949916989485335),\n",
       " ('LSmallToe', 0.6824294410625346),\n",
       " ('LHeel', 0.7277255118981738),\n",
       " ('RBigToe', 0.707830658550083),\n",
       " ('RSmallToe', 0.7005534034311013),\n",
       " ('RHeel', 0.7318760376314333))"
      ]
     },
     "execution_count": 25,
     "metadata": {},
     "output_type": "execute_result"
    }
   ],
   "source": [
    "# what is percentage of frames where a particular joint is present?\n",
    "separate_joints_percentage = separate_joints / total_frames\n",
    "tuple(zip(BODY_25_SKELETON._member_names_, separate_joints_percentage))"
   ]
  },
  {
   "cell_type": "code",
   "execution_count": 31,
   "metadata": {},
   "outputs": [
    {
     "data": {
      "text/plain": [
       "(0.36,\n",
       " 0.23,\n",
       " 0.24,\n",
       " 0.26,\n",
       " 0.31,\n",
       " 0.24,\n",
       " 0.26,\n",
       " 0.31,\n",
       " 0.23,\n",
       " 0.23,\n",
       " 0.24,\n",
       " 0.26,\n",
       " 0.23,\n",
       " 0.24,\n",
       " 0.26,\n",
       " 0.44,\n",
       " 0.47,\n",
       " 0.39,\n",
       " 0.4,\n",
       " 0.31,\n",
       " 0.32,\n",
       " 0.27,\n",
       " 0.29,\n",
       " 0.3,\n",
       " 0.27)"
      ]
     },
     "execution_count": 31,
     "metadata": {},
     "output_type": "execute_result"
    }
   ],
   "source": [
    "# per-joint missing joint probability (rounded to 2 decimal places)\n",
    "\n",
    "mjp = np.round(1 - separate_joints_percentage, 2)\n",
    "tuple(mjp)"
   ]
  },
  {
   "cell_type": "code",
   "execution_count": 32,
   "metadata": {},
   "outputs": [
    {
     "data": {
      "text/plain": [
       "0.29"
      ]
     },
     "execution_count": 32,
     "metadata": {},
     "output_type": "execute_result"
    }
   ],
   "source": [
    "# global missing joint probability\n",
    "np.round(1  - (separate_joints.sum() / (total_frames * len(BODY_25_SKELETON))), 2)"
   ]
  }
 ],
 "metadata": {
  "interpreter": {
   "hash": "006d5deb8e6cdcd4312641bdf15f3bc20f0769a7305d81173599a7b40f33b4a2"
  },
  "kernelspec": {
   "display_name": "Python 3.8.10 64-bit",
   "language": "python",
   "name": "python3"
  },
  "language_info": {
   "codemirror_mode": {
    "name": "ipython",
    "version": 3
   },
   "file_extension": ".py",
   "mimetype": "text/x-python",
   "name": "python",
   "nbconvert_exporter": "python",
   "pygments_lexer": "ipython3",
   "version": "3.8.10"
  }
 },
 "nbformat": 4,
 "nbformat_minor": 2
}
