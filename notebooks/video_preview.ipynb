{
 "cells": [
  {
   "cell_type": "code",
   "execution_count": null,
   "metadata": {},
   "outputs": [],
   "source": [
    "%load_ext autoreload\n",
    "%autoreload 2\n",
    "\n",
    "%aimport -os -glob -IPython"
   ]
  },
  {
   "cell_type": "code",
   "execution_count": null,
   "metadata": {},
   "outputs": [],
   "source": [
    "%autoreload 2\n",
    "\n",
    "import os\n",
    "import glob\n",
    "from IPython.display import HTML\n",
    "\n",
    "from pedestrians_video_2_carla.modeling import main\n",
    "\n",
    "args = [\n",
    "    \"--data_module_name=AMASS\",\n",
    "    \"--batch_size=2\",\n",
    "    \"--num_workers=0\",\n",
    "    \"--input_nodes=CARLA_SKELETON\",\n",
    "    \"--output_nodes=CARLA_SKELETON\",\n",
    "    \"--loss_modes\",\n",
    "    \"loc_2d_loc_rot_3d\",\n",
    "    \"--check_val_every_n_epoch=1\",\n",
    "    \"--renderers\",\n",
    "    \"smpl\",\n",
    "    \"input_points\",\n",
    "    \"source_carla\",\n",
    "    \"--merging_method=horizontal\",\n",
    "    \"--max_videos=2\",\n",
    "    \"--movements_model_name=ZeroMovements\",\n",
    "    \"--gpus=1\",\n",
    "    \"--clip_length=150\",\n",
    "    \"--clip_offset=150\",\n",
    "    \"--prefer_tensorboard\",\n",
    "    \"--mode=test\",\n",
    "    \"--limit_test_batches=1\"\n",
    "]\n",
    "log_dir = main(args)\n",
    "videos_list = glob.glob(os.path.join(log_dir, '**/*.mp4'), recursive=True)\n",
    "\n",
    "html_source = []\n",
    "for video_path in videos_list:\n",
    "    video_tag = '<video width=\"100%\" controls src=\"{}\" type=\"video/mp4\"></video>'.format(video_path)\n",
    "    html_source.append(video_tag)\n",
    "\n",
    "HTML(data='<br />\\n'.join(html_source))"
   ]
  }
 ],
 "metadata": {
  "interpreter": {
   "hash": "006d5deb8e6cdcd4312641bdf15f3bc20f0769a7305d81173599a7b40f33b4a2"
  },
  "kernelspec": {
   "display_name": "Python 3.8.10 64-bit",
   "language": "python",
   "name": "python3"
  },
  "language_info": {
   "codemirror_mode": {
    "name": "ipython",
    "version": 3
   },
   "file_extension": ".py",
   "mimetype": "text/x-python",
   "name": "python",
   "nbconvert_exporter": "python",
   "pygments_lexer": "ipython3",
   "version": "3.8.10"
  },
  "orig_nbformat": 4
 },
 "nbformat": 4,
 "nbformat_minor": 2
}
