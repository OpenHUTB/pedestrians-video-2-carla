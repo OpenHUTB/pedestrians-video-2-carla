{
 "cells": [
  {
   "cell_type": "markdown",
   "metadata": {},
   "source": [
    "Basic Linear AutoEncoder flow using JAADOpenPose dataset:\n",
    "========================================================="
   ]
  },
  {
   "cell_type": "code",
   "execution_count": null,
   "metadata": {},
   "outputs": [],
   "source": [
    "# seeding\n",
    "\n",
    "import pytorch_lightning as pl\n",
    "import randomname\n",
    "\n",
    "# get random version name before seeding\n",
    "version = randomname.get_name()\n",
    "seed = 22742\n",
    "\n",
    "pl.seed_everything(seed, workers=True)"
   ]
  },
  {
   "cell_type": "markdown",
   "metadata": {},
   "source": [
    "Model to use:\n",
    "-------------"
   ]
  },
  {
   "cell_type": "code",
   "execution_count": null,
   "metadata": {},
   "outputs": [],
   "source": [
    "from pedestrians_video_2_carla.data.openpose.skeleton import BODY_25_SKELETON\n",
    "from pedestrians_video_2_carla.modules.movements.linear_ae.linear_ae_2d import LinearAE2D\n",
    "\n",
    "model = LinearAE2D(\n",
    "    input_nodes = BODY_25_SKELETON,\n",
    "    output_nodes = BODY_25_SKELETON,\n",
    "    disable_lr_scheduler = True,\n",
    "    lr = 1e-3,\n",
    "    model_scaling_factor = 8\n",
    ")"
   ]
  },
  {
   "cell_type": "markdown",
   "metadata": {},
   "source": [
    "Flow definition:\n",
    "----------------\n",
    "\n",
    "Also handles checkpoint loading if needed."
   ]
  },
  {
   "cell_type": "code",
   "execution_count": null,
   "metadata": {},
   "outputs": [],
   "source": [
    "# ckpt_path='/runs/JAADOpenPoseDataModule/jaad_autoencoder_notebook/LinearAE2D/other-style/checkpoints/epoch=273-step=8493.ckpt'\n",
    "ckpt_path = None"
   ]
  },
  {
   "cell_type": "code",
   "execution_count": null,
   "metadata": {},
   "outputs": [],
   "source": [
    "# get flow model (LitAutoencoderFlow)\n",
    "\n",
    "from pedestrians_video_2_carla.modules.flow.autoencoder import LitAutoencoderFlow\n",
    "from pedestrians_video_2_carla.data.base.base_transforms import BaseTransforms\n",
    "from pedestrians_video_2_carla.loss import LossModes\n",
    "\n",
    "if ckpt_path is not None:\n",
    "    flow = LitAutoencoderFlow.load_from_checkpoint(\n",
    "        checkpoint_path=ckpt_path,\n",
    "        movements_model=model,\n",
    "    )\n",
    "else:\n",
    "    flow = LitAutoencoderFlow(\n",
    "        movements_model=model,\n",
    "        transform=BaseTransforms.hips_neck_bbox,\n",
    "        loss_modes=[LossModes.loc_2d],\n",
    "    )"
   ]
  },
  {
   "cell_type": "code",
   "execution_count": null,
   "metadata": {},
   "outputs": [],
   "source": [
    "# DataModule to use\n",
    "\n",
    "from pedestrians_video_2_carla.data.openpose.jaad_openpose_datamodule import JAADOpenPoseDataModule\n",
    "\n",
    "dm = JAADOpenPoseDataModule(\n",
    "    batch_size=256,\n",
    "    clip_offset=1,\n",
    "    clip_length=1,\n",
    "    transforms=BaseTransforms.hips_neck_bbox,\n",
    "    input_nodes=BODY_25_SKELETON,\n",
    "    skip_metadata=True,\n",
    "    return_graph=model.needs_graph,\n",
    "    return_confidence=model.needs_confidence,\n",
    "    strong_points=True,\n",
    "    missing_point_probability=0.1,\n",
    "    noise='gaussian',\n",
    "    num_workers=0\n",
    ")"
   ]
  },
  {
   "cell_type": "code",
   "execution_count": null,
   "metadata": {},
   "outputs": [],
   "source": [
    "# loggers and callbacks\n",
    "\n",
    "import os\n",
    "\n",
    "from pytorch_lightning.callbacks import LearningRateMonitor, ModelCheckpoint\n",
    "from pytorch_lightning.loggers.tensorboard import TensorBoardLogger\n",
    "\n",
    "from pedestrians_video_2_carla.loggers.pedestrian import PedestrianLogger\n",
    "from pedestrians_video_2_carla.loggers.pedestrian.enums import PedestrianRenderers\n",
    "\n",
    "logger = TensorBoardLogger(\n",
    "    save_dir='/runs',\n",
    "    name=os.path.join(\n",
    "        dm.__class__.__name__,\n",
    "        'jaad_autoencoder_notebook',\n",
    "        model.__class__.__name__,\n",
    "    ),\n",
    "    version=version,\n",
    "    default_hp_metric=False,\n",
    ")\n",
    "pedestrian_logger = PedestrianLogger(\n",
    "    save_dir=os.path.join(logger.log_dir, \"videos\"),\n",
    "    name=logger.name,\n",
    "    version=logger.version,\n",
    "    movement_model_output_type=model.output_type,\n",
    "    renderers=[PedestrianRenderers.source_videos, PedestrianRenderers.target_points, PedestrianRenderers.input_points, PedestrianRenderers.projection_points],\n",
    "    source_videos_dir='/datasets/CARLA/BasicPedestriansCrossing',\n",
    "    source_videos_overlay=True,\n",
    "    video_saving_frequency_reduction=0  # this actually turns of the logger\n",
    ")\n",
    "checkpoint_callback = ModelCheckpoint(\n",
    "    dirpath=os.path.join(logger.log_dir, \"checkpoints\"),\n",
    "    monitor=\"val_loss/primary\",\n",
    "    mode=\"min\",\n",
    "    save_top_k=1,\n",
    ")\n",
    "lr_monitor = LearningRateMonitor(logging_interval=\"step\")"
   ]
  },
  {
   "cell_type": "code",
   "execution_count": null,
   "metadata": {},
   "outputs": [],
   "source": [
    "# actual trainer\n",
    "\n",
    "trainer = pl.Trainer(\n",
    "    # gpus=1,\n",
    "    # auto_select_gpus=True,\n",
    "    log_every_n_steps=1,\n",
    "    num_sanity_val_steps=1,\n",
    "    check_val_every_n_epoch=1,\n",
    "    max_epochs=10,\n",
    "    deterministic=False,\n",
    "    logger=[logger, pedestrian_logger],\n",
    "    callbacks=[checkpoint_callback, lr_monitor],\n",
    ")"
   ]
  },
  {
   "cell_type": "code",
   "execution_count": null,
   "metadata": {},
   "outputs": [],
   "source": [
    "# train!\n",
    "\n",
    "trainer.fit(model=flow, datamodule=dm, ckpt_path=ckpt_path)  # ckpt_path is needed to resume optimizer states etc."
   ]
  }
 ],
 "metadata": {
  "interpreter": {
   "hash": "006d5deb8e6cdcd4312641bdf15f3bc20f0769a7305d81173599a7b40f33b4a2"
  },
  "kernelspec": {
   "display_name": "Python 3.8.10 64-bit",
   "language": "python",
   "name": "python3"
  },
  "language_info": {
   "codemirror_mode": {
    "name": "ipython",
    "version": 3
   },
   "file_extension": ".py",
   "mimetype": "text/x-python",
   "name": "python",
   "nbconvert_exporter": "python",
   "pygments_lexer": "ipython3",
   "version": "3.8.10"
  }
 },
 "nbformat": 4,
 "nbformat_minor": 2
}
