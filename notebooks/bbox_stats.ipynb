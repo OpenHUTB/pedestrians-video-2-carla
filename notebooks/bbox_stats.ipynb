{
 "cells": [
  {
   "cell_type": "code",
   "execution_count": null,
   "metadata": {},
   "outputs": [],
   "source": [
    "from pedestrians_video_2_carla.data.carla.carla_recorded_dataset import CarlaRecordedDataset\n",
    "from pedestrians_video_2_carla.data.carla.skeleton import CARLA_SKELETON\n",
    "\n",
    "ds = CarlaRecordedDataset(\n",
    "    '/outputs/CarlaRecordedDataModule/subsets/f9e757d00f25bfcba82d53ce5b204c99/train.hdf5',\n",
    "    nodes=CARLA_SKELETON,\n",
    ")"
   ]
  },
  {
   "cell_type": "code",
   "execution_count": null,
   "metadata": {},
   "outputs": [],
   "source": [
    "len(ds)"
   ]
  },
  {
   "cell_type": "code",
   "execution_count": null,
   "metadata": {},
   "outputs": [],
   "source": [
    "from pedestrians_video_2_carla.utils.tensors import get_bboxes\n",
    "import torch\n",
    "\n",
    "gt_projection_2d = torch.stack([ds[i][1]['projection_2d'] for i in range(len(ds))])"
   ]
  },
  {
   "cell_type": "code",
   "execution_count": null,
   "metadata": {},
   "outputs": [],
   "source": [
    "gt_projection_2d.shape"
   ]
  },
  {
   "cell_type": "code",
   "execution_count": null,
   "metadata": {},
   "outputs": [],
   "source": [
    "from pedestrians_video_2_carla.transforms.hips_neck import HipsNeckExtractor\n",
    "\n",
    "hn_extractor = HipsNeckExtractor(input_nodes=CARLA_SKELETON)\n",
    "hn_shift, hn_scale = hn_extractor.get_shift_scale(gt_projection_2d)"
   ]
  },
  {
   "cell_type": "code",
   "execution_count": null,
   "metadata": {},
   "outputs": [],
   "source": [
    "from pedestrians_video_2_carla.transforms.bbox import BBoxExtractor\n",
    "\n",
    "bb_extractor = BBoxExtractor(input_nodes=CARLA_SKELETON)\n",
    "bb_shift, bb_scale = bb_extractor.get_shift_scale(gt_projection_2d)"
   ]
  },
  {
   "cell_type": "code",
   "execution_count": null,
   "metadata": {},
   "outputs": [],
   "source": [
    "hn_bb_ratio = hn_scale / bb_scale\n",
    "hn_bb_ratio_clips_avg = hn_bb_ratio.mean(dim=1)\n",
    "hn_bb_ratio_avg = hn_bb_ratio_clips_avg.mean()"
   ]
  },
  {
   "cell_type": "code",
   "execution_count": null,
   "metadata": {},
   "outputs": [],
   "source": [
    "hn_bb_ratio_avg"
   ]
  },
  {
   "cell_type": "code",
   "execution_count": null,
   "metadata": {},
   "outputs": [],
   "source": [
    "bb_projection_2d = (gt_projection_2d - bb_shift[..., None, :]) / bb_scale[..., None, None]\n",
    "hn_bb_shift, hn_bb_scale = hn_extractor.get_shift_scale(bb_projection_2d)"
   ]
  },
  {
   "cell_type": "code",
   "execution_count": null,
   "metadata": {},
   "outputs": [],
   "source": [
    "hn_bb_scale_clips_avg = hn_bb_scale.mean(dim=1)\n",
    "hn_bb_scale_avg = hn_bb_scale_clips_avg.mean()"
   ]
  },
  {
   "cell_type": "code",
   "execution_count": null,
   "metadata": {},
   "outputs": [],
   "source": [
    "hn_bb_scale_avg"
   ]
  },
  {
   "cell_type": "code",
   "execution_count": null,
   "metadata": {},
   "outputs": [],
   "source": [
    "hn_bb_shift_clips_avg = hn_bb_shift.mean(dim=1)\n",
    "hn_bb_shift_avg = hn_bb_shift_clips_avg.mean()"
   ]
  },
  {
   "cell_type": "code",
   "execution_count": null,
   "metadata": {},
   "outputs": [],
   "source": [
    "hn_bb_shift_avg"
   ]
  },
  {
   "cell_type": "code",
   "execution_count": null,
   "metadata": {},
   "outputs": [],
   "source": [
    "bb_scale[0,0]"
   ]
  },
  {
   "cell_type": "code",
   "execution_count": null,
   "metadata": {},
   "outputs": [],
   "source": [
    "hn_scale[0,0]"
   ]
  },
  {
   "cell_type": "code",
   "execution_count": null,
   "metadata": {},
   "outputs": [],
   "source": [
    "bb_scale[0,0] * hn_bb_scale_avg"
   ]
  },
  {
   "cell_type": "code",
   "execution_count": null,
   "metadata": {},
   "outputs": [],
   "source": [
    "%matplotlib widget\n",
    "\n",
    "from matplotlib import pyplot as plt\n",
    "\n",
    "diff_scale = (bb_scale * hn_bb_scale_avg - hn_scale).mean(dim=1)\n",
    "gt_scale = hn_scale.mean(dim=1)\n",
    "\n",
    "plt.plot(diff_scale.cpu().numpy())"
   ]
  },
  {
   "cell_type": "code",
   "execution_count": null,
   "metadata": {},
   "outputs": [],
   "source": [
    "torch.allclose(bb_scale * hn_bb_scale_avg, hn_scale, atol=1e0, rtol=1e-1)"
   ]
  },
  {
   "cell_type": "code",
   "execution_count": null,
   "metadata": {},
   "outputs": [],
   "source": [
    "%matplotlib widget\n",
    "\n",
    "plt.plot((bb_shift[...,0] - hn_shift[...,0]).mean(dim=1).cpu().numpy())\n"
   ]
  },
  {
   "cell_type": "code",
   "execution_count": null,
   "metadata": {},
   "outputs": [],
   "source": [
    "torch.allclose(bb_shift[...,0], hn_shift[...,0], atol=1e0, rtol=1e-1)"
   ]
  },
  {
   "cell_type": "code",
   "execution_count": null,
   "metadata": {},
   "outputs": [],
   "source": [
    "torch.allclose((bb_shift + (bb_scale * hn_bb_shift_avg)[..., None])[...,1], hn_shift[...,1], atol=1e0, rtol=1e-1)"
   ]
  }
 ],
 "metadata": {
  "interpreter": {
   "hash": "006d5deb8e6cdcd4312641bdf15f3bc20f0769a7305d81173599a7b40f33b4a2"
  },
  "kernelspec": {
   "display_name": "Python 3.8.10 64-bit",
   "language": "python",
   "name": "python3"
  },
  "language_info": {
   "codemirror_mode": {
    "name": "ipython",
    "version": 3
   },
   "file_extension": ".py",
   "mimetype": "text/x-python",
   "name": "python",
   "nbconvert_exporter": "python",
   "pygments_lexer": "ipython3",
   "version": "3.8.10"
  }
 },
 "nbformat": 4,
 "nbformat_minor": 2
}
