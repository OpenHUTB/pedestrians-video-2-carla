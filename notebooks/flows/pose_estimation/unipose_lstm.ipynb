{
 "cells": [
  {
   "cell_type": "markdown",
   "metadata": {},
   "source": [
    "PoseEstimation flow:\n",
    "============================"
   ]
  },
  {
   "cell_type": "code",
   "execution_count": null,
   "metadata": {},
   "outputs": [],
   "source": [
    "# seeding\n",
    "\n",
    "import pytorch_lightning as pl\n",
    "import randomname\n",
    "\n",
    "# get random version name before seeding\n",
    "version = randomname.get_name()\n",
    "seed = 22742\n",
    "\n",
    "pl.seed_everything(seed, workers=True)"
   ]
  },
  {
   "cell_type": "markdown",
   "metadata": {},
   "source": [
    "Model to use:\n",
    "-------------"
   ]
  },
  {
   "cell_type": "code",
   "execution_count": null,
   "metadata": {},
   "outputs": [],
   "source": [
    "from pedestrians_video_2_carla.data.carla.skeleton import CARLA_SKELETON\n",
    "DATA_NODES = CARLA_SKELETON\n",
    "INPUT_NODES = CARLA_SKELETON\n",
    "OUTPUT_NODES = CARLA_SKELETON"
   ]
  },
  {
   "cell_type": "code",
   "execution_count": null,
   "metadata": {},
   "outputs": [],
   "source": [
    "from pedestrians_video_2_carla.modules.pose_estimation.unipose.unipose_lstm import UniPoseLSTM\n",
    "\n",
    "# any model needs to inherit from `pedestrians_video_2_carla.modules.pose_estimation.pose_estimation.PoseEstimationModel`\n",
    "model = UniPoseLSTM(\n",
    "    stride=8,\n",
    "    output_stride=16,\n",
    "    backbone=\"resnet50\",\n",
    "    input_nodes=INPUT_NODES,\n",
    "    output_nodes=OUTPUT_NODES,\n",
    "    sigma=3,\n",
    "    # standard model params:\n",
    "    movements_lr=0.0001,\n",
    "    movements_enable_lr_scheduler=True,\n",
    "    movements_scheduler_type=\"StepLR\",\n",
    "    movements_scheduler_gamma=0.333\n",
    ")"
   ]
  },
  {
   "cell_type": "code",
   "execution_count": null,
   "metadata": {},
   "outputs": [],
   "source": [
    "ckpt_path=None"
   ]
  },
  {
   "cell_type": "markdown",
   "metadata": {},
   "source": [
    "Flow definition:\n",
    "----------------\n",
    "\n",
    "Also handles checkpoint loading if needed."
   ]
  },
  {
   "cell_type": "code",
   "execution_count": null,
   "metadata": {},
   "outputs": [],
   "source": [
    "# get flow model (LitPoseEstimationFlow)\n",
    "\n",
    "from pedestrians_video_2_carla.modules.flow.pose_estimation import LitPoseEstimationFlow\n",
    "\n",
    "if ckpt_path is not None:\n",
    "    flow = LitPoseEstimationFlow.load_from_checkpoint(\n",
    "        checkpoint_path=ckpt_path,\n",
    "        movements_model=model,\n",
    "        input_nodes=INPUT_NODES,\n",
    "        output_nodes=OUTPUT_NODES,\n",
    "        loss_modes=[\"heatmaps\"],\n",
    "    )\n",
    "else:\n",
    "    flow = LitPoseEstimationFlow(\n",
    "        movements_model=model,\n",
    "        input_nodes=INPUT_NODES,\n",
    "        output_nodes=OUTPUT_NODES,\n",
    "        loss_modes=[\"heatmaps\"],\n",
    "    )"
   ]
  },
  {
   "cell_type": "code",
   "execution_count": null,
   "metadata": {},
   "outputs": [],
   "source": [
    "# DataModule to use\n",
    "\n",
    "from pedestrians_video_2_carla.data.carla.carla_recorded_video_datamodule import CarlaRecordedVideoDataModule\n",
    "from pedestrians_video_2_carla.data.base.base_transforms import BaseTransforms\n",
    "\n",
    "dm = CarlaRecordedVideoDataModule(\n",
    "    batch_size=1,\n",
    "    num_workers=2,\n",
    "    clip_offset=5,\n",
    "    clip_length=5,\n",
    "    transforms=BaseTransforms.hips_neck_bbox,\n",
    "    data_nodes=DATA_NODES,\n",
    "    input_nodes=INPUT_NODES,\n",
    "    sigma=3,  # for heatmaps generation\n",
    ")"
   ]
  },
  {
   "cell_type": "code",
   "execution_count": null,
   "metadata": {},
   "outputs": [],
   "source": [
    "# prepare data if needed - this will be done automatically if you use Trainer.fit(), but moved here explicitly for clarity\n",
    "\n",
    "dm.prepare_data()"
   ]
  },
  {
   "cell_type": "code",
   "execution_count": null,
   "metadata": {},
   "outputs": [],
   "source": [
    "# loggers and callbacks\n",
    "\n",
    "import os\n",
    "\n",
    "from pytorch_lightning.callbacks import LearningRateMonitor, ModelCheckpoint, ModelSummary\n",
    "from pytorch_lightning.loggers.wandb import WandbLogger\n",
    "\n",
    "from pedestrians_video_2_carla.loggers.pedestrian import PedestrianLogger\n",
    "from pedestrians_video_2_carla.loggers.pedestrian.enums import PedestrianRenderers\n",
    "\n",
    "import wandb\n",
    "\n",
    "os.environ[\"WANDB_NOTEBOOK_NAME\"] = '/app/notebooks/flows/pose_estimation/unipose_lstm.ipynb'\n",
    "\n",
    "logger = WandbLogger(\n",
    "    save_dir='/runs',\n",
    "    name=version,\n",
    "    version=version,\n",
    "    project=\"pose_estimation\",\n",
    "    entity=\"carla-pedestrians\",\n",
    "    log_model=True,  # this will log models created by ModelCheckpoint,\n",
    "    tags=[\"ipynb\"],\n",
    ")\n",
    "log_dir = os.path.realpath(os.path.join(str(logger.experiment.dir), \"..\"))\n",
    "\n",
    "pedestrian_logger = PedestrianLogger(\n",
    "    save_dir=os.path.join(log_dir, \"videos\"),\n",
    "    name=logger.name,\n",
    "    version=logger.version,\n",
    "    renderers=[PedestrianRenderers.source_videos, PedestrianRenderers.target_points, PedestrianRenderers.projection_points],\n",
    "    source_videos_dir='/datasets/CARLA/WideCameraPedestrians',\n",
    "    source_videos_overlay_bboxes=True,\n",
    "    source_videos_overlay_skeletons=True,\n",
    "    video_saving_frequency_reduction=1,  # set to 0 to disable (or empty renderers list)\n",
    "    max_videos=1,\n",
    "    input_nodes=INPUT_NODES,\n",
    "    output_nodes=OUTPUT_NODES,\n",
    ")\n",
    "checkpoint_callback = ModelCheckpoint(\n",
    "    dirpath=os.path.join(log_dir, \"checkpoints\"),\n",
    "    monitor=\"val_loss/primary\",\n",
    "    mode=\"min\",\n",
    "    save_top_k=1,\n",
    ")\n",
    "lr_monitor = LearningRateMonitor(logging_interval=\"step\")\n",
    "model_summary = ModelSummary(max_depth=3)"
   ]
  },
  {
   "cell_type": "code",
   "execution_count": null,
   "metadata": {},
   "outputs": [],
   "source": [
    "# actual trainer\n",
    "\n",
    "dataset_fraction = 0.001\n",
    "\n",
    "trainer = pl.Trainer(\n",
    "    gpus=1,\n",
    "    auto_select_gpus=True,\n",
    "    log_every_n_steps=1,\n",
    "    num_sanity_val_steps=8,\n",
    "    check_val_every_n_epoch=1,\n",
    "    limit_val_batches=dataset_fraction,\n",
    "    limit_train_batches=dataset_fraction,\n",
    "    max_epochs=1,\n",
    "    deterministic=False,\n",
    "    fast_dev_run=False,\n",
    "    logger=[logger, pedestrian_logger],\n",
    "    callbacks=[checkpoint_callback, lr_monitor, model_summary],\n",
    ")"
   ]
  },
  {
   "cell_type": "code",
   "execution_count": null,
   "metadata": {},
   "outputs": [],
   "source": [
    "# train! this will decode meta at the beginning with no visible output, it can take a few minutes\n",
    "\n",
    "trainer.fit(model=flow, datamodule=dm, ckpt_path=ckpt_path)  # ckpt_path is needed to resume optimizer states etc."
   ]
  },
  {
   "cell_type": "code",
   "execution_count": null,
   "metadata": {},
   "outputs": [],
   "source": [
    "wandb.finish()"
   ]
  }
 ],
 "metadata": {
  "kernelspec": {
   "display_name": "Python 3.8.10 ('venv')",
   "language": "python",
   "name": "python3"
  },
  "language_info": {
   "codemirror_mode": {
    "name": "ipython",
    "version": 3
   },
   "file_extension": ".py",
   "mimetype": "text/x-python",
   "name": "python",
   "nbconvert_exporter": "python",
   "pygments_lexer": "ipython3",
   "version": "3.8.10"
  },
  "vscode": {
   "interpreter": {
    "hash": "006d5deb8e6cdcd4312641bdf15f3bc20f0769a7305d81173599a7b40f33b4a2"
   }
  }
 },
 "nbformat": 4,
 "nbformat_minor": 2
}
